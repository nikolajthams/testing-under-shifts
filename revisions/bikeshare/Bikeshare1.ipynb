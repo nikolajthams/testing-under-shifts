{
 "cells": [
  {
   "cell_type": "code",
   "execution_count": null,
   "metadata": {
    "collapsed": true
   },
   "outputs": [
    {
     "ename": "",
     "evalue": "",
     "output_type": "error",
     "traceback": [
      "\u001b[1;31mRunning cells with 'Python 3.10.4 ('shifts')' requires ipykernel package.\n",
      "Run the following command to install 'ipykernel' into the Python environment. \n",
      "Command: 'conda install -n shifts ipykernel --update-deps --force-reinstall'"
     ]
    }
   ],
   "source": [
    "import pandas as pd\n",
    "import numpy as np\n",
    "from urllib.request import urlopen   \n",
    "from zipfile import ZipFile\n",
    "import os"
   ]
  },
  {
   "cell_type": "code",
   "execution_count": null,
   "metadata": {
    "collapsed": true
   },
   "outputs": [
    {
     "ename": "",
     "evalue": "",
     "output_type": "error",
     "traceback": [
      "\u001b[1;31mRunning cells with 'Python 3.10.4 ('shifts')' requires ipykernel package.\n",
      "Run the following command to install 'ipykernel' into the Python environment. \n",
      "Command: 'conda install -n shifts ipykernel --update-deps --force-reinstall'"
     ]
    }
   ],
   "source": [
    "URL = 'https://s3.amazonaws.com/capitalbikeshare-data/2011-capitalbikeshare-tripdata.zip'\n",
    "url = urlopen(URL)\n",
    "output = open('zipFile.zip','wb')\n",
    "output.write(url.read())\n",
    "output.close()\n",
    "df = pd.read_csv('zipFile.zip')\n",
    "os.remove('zipFile.zip')"
   ]
  },
  {
   "cell_type": "code",
   "execution_count": 3,
   "metadata": {
    "collapsed": true
   },
   "outputs": [],
   "source": [
    "# extract the month & day of the week for each ride\n",
    "# & also the minute (over 24 hours i.e. between 0 and 24*60)\n",
    "\n",
    "tmp = df['Start date'].str.split('-',expand=True)\n",
    "df['Month'] = tmp[1].astype(int)\n",
    "tmp = tmp[2].str.split(' ',expand=True)\n",
    "df['Day'] = tmp[0].astype(int)\n",
    "tmp = tmp[1].str.split(':',expand=True)\n",
    "df['Minute'] = 60 * tmp[0].astype(int) + tmp[1].astype(int)\n",
    "df['Day of week'] = (4 + df['Day'] +\\\n",
    "   np.array([0,31,28,31,30,31,30,31,31,30,31,30]).cumsum()[df.Month-1])%7\n",
    "df.Duration = np.log(df.Duration)\n",
    "\n",
    "# public holidays: \n",
    "# labor day, columbus day, halloween, veterans day, thanksgiving +/- 1 day\n",
    "df['Holiday'] = ((df['Month']==9)&(df['Day']==5))| ((df['Month']==10)&(df['Day']==10)) | \\\n",
    "    ((df['Month']==10)&(df['Day']==31))| ((df['Month']==11)&(np.abs(df['Day']-24)<=1))\n",
    "\n",
    "df = df[(df['Day of week'] <= 4) & (df.Month >= 9) & (df.Month <= 11)  & (df.Holiday == False)]\n",
    "# keep only regular weekdays in sept & nov (train) or oct (test)\n"
   ]
  },
  {
   "cell_type": "code",
   "execution_count": 4,
   "metadata": {
    "collapsed": true
   },
   "outputs": [],
   "source": [
    "def duration_mean_by_time(group):\n",
    "    # estimate E[log(Duration)] & Var[log(Duration)] \n",
    "    # for each time of day (in minutes), for that particular route\n",
    "    n = len(group)\n",
    "    h = 20 # bandwidth in minutes\n",
    "    K = np.exp(-np.power(12*60 - np.abs(np.abs(group.Minute[:,None] - group.Minute[None,:])\\\n",
    "               - 12*60),2)/2/h**2) * np.array(group.Month != 10)\n",
    "    # K(i,j) is nonzero only for j in training set\n",
    "    group['K_weights_total'] = np.dot(K, np.ones(n))\n",
    "    group['Duration_mean'] = np.divide(np.dot(K, group.Duration), group.K_weights_total, \\\n",
    "            out=np.zeros(n), where= (group.K_weights_total!=0))\n",
    "    group['Duration_var'] = np.divide(np.dot(K, np.power(group.Duration,2)), group.K_weights_total, \\\n",
    "            out=np.zeros(n), where= (group.K_weights_total!=0)) - np.power(group.Duration_mean,2)\n",
    "    return group"
   ]
  },
  {
   "cell_type": "code",
   "execution_count": 5,
   "metadata": {
    "collapsed": true
   },
   "outputs": [],
   "source": [
    "df = df.groupby(['Start station number', 'End station number']).apply(duration_mean_by_time)\n",
    "df1 = df[(df.Month == 10) & (df.K_weights_total >= 20)] # test set"
   ]
  },
  {
   "cell_type": "code",
   "execution_count": 6,
   "metadata": {
    "collapsed": true
   },
   "outputs": [],
   "source": [
    "# generate CPT copies of X when the conditional distribution is Gaussian\n",
    "# i.e. X | Z=Z_i ~ N(mu[i],sig2[i])\n",
    "def generate_X_CPT_gaussian(nstep,M,X0,mu,sig2):\n",
    "    log_lik_mat = - np.power(X0,2)[:,None] * (1/2/sig2)[None,:] + X0[:,None] * (mu/sig2)[None,:]\n",
    "    Pi_mat = generate_X_CPT(nstep,M,log_lik_mat)\n",
    "    return X0[Pi_mat]\n",
    "\n",
    "# generate CPT copies of X in general case\n",
    "# log_lik_mat[i,j] = q(X[i]|Z[j]) where q(x|z) is the conditional density for X|Z\n",
    "def generate_X_CPT(nstep,M,log_lik_mat,Pi_init=[]):\n",
    "    n = log_lik_mat.shape[0]\n",
    "    if len(Pi_init)==0:\n",
    "        Pi_init = np.arange(n,dtype=int)\n",
    "    Pi_ = generate_X_CPT_MC(nstep,log_lik_mat,Pi_init)\n",
    "    Pi_mat = np.zeros((M,n),dtype=int)\n",
    "    for m in range(M):\n",
    "        Pi_mat[m] = generate_X_CPT_MC(nstep,log_lik_mat,Pi_)\n",
    "    return Pi_mat\n",
    "\n",
    "def generate_X_CPT_MC(nstep,log_lik_mat,Pi):\n",
    "    n = len(Pi)\n",
    "    npair = np.floor(n/2).astype(int)\n",
    "    for istep in range(nstep):\n",
    "        perm = np.random.choice(n,n,replace=False)\n",
    "        inds_i = perm[0:npair]\n",
    "        inds_j = perm[npair:(2*npair)]\n",
    "        # for each k=1,...,npair, decide whether to swap Pi[inds_i[k]] with Pi[inds_j[k]]\n",
    "        log_odds = log_lik_mat[Pi[inds_i],inds_j] + log_lik_mat[Pi[inds_j],inds_i] \\\n",
    "            - log_lik_mat[Pi[inds_i],inds_i] - log_lik_mat[Pi[inds_j],inds_j]\n",
    "        swaps = np.random.binomial(1,1/(1+np.exp(-np.maximum(-500,log_odds))))\n",
    "        Pi[inds_i], Pi[inds_j] = Pi[inds_i] + swaps*(Pi[inds_j]-Pi[inds_i]), Pi[inds_j] - \\\n",
    "            swaps*(Pi[inds_j]-Pi[inds_i])   \n",
    "    return Pi\n"
   ]
  },
  {
   "cell_type": "code",
   "execution_count": 7,
   "metadata": {},
   "outputs": [
    {
     "name": "stdout",
     "output_type": "stream",
     "text": [
      "Total number training data points: n_train = 149912\n",
      "Total number test data points (after screening): n = 7346\n"
     ]
    }
   ],
   "source": [
    "# create CRT & CPT copies\n",
    "\n",
    "ntrial = 10\n",
    "M = 1000 # number of copies\n",
    "n = len(df1)\n",
    "nstep = 50 # number of steps in the MC for the CPT\n",
    "\n",
    "print('Total number training data points: n_train = '+ str((df.Month!=10).sum()))\n",
    "print('Total number test data points (after screening): n = '+str(n))\n",
    "\n",
    "X = np.array(df1.Duration)\n",
    "X_CRT = np.zeros((ntrial,M,n))\n",
    "X_CPT = np.zeros((ntrial,M,n))\n",
    "\n",
    "Duration_mean = np.array(df1.Duration_mean)\n",
    "Duration_var = np.maximum(1e-12,np.array(df1.Duration_var))\n",
    "\n",
    "for itrial in range(ntrial):\n",
    "    np.random.seed(12345 + itrial)\n",
    "    X_CRT[itrial] = np.random.normal(size=(M,n)) * np.sqrt(Duration_var) + Duration_mean\n",
    "    X_CPT[itrial] = generate_X_CPT_gaussian(nstep,M,X,Duration_mean,Duration_var)"
   ]
  },
  {
   "cell_type": "code",
   "execution_count": 8,
   "metadata": {
    "collapsed": true
   },
   "outputs": [],
   "source": [
    "def corr_mat_vec(x,y):\n",
    "    # x is a ntrial-by-M-by-n numpy array, y is a length-n numpy array\n",
    "    # return ntrial-by-M matrix of correlations of each x with y\n",
    "    x = ((x.transpose((2,0,1)) - x.mean(2))/np.sqrt(x.var(2))).transpose((1,2,0))\n",
    "    y = (y - y.mean(0))/np.sqrt(y.var(0))\n",
    "    return np.dot(x,y)/len(y)\n",
    "\n",
    "def corr_mat_vec_cat(x,y):\n",
    "    # x is a ntrial-by-M-by-n numpy array, y is a length-n numpy array\n",
    "    # y is a categorical variable with c many categories\n",
    "    # return ntrial-by-M-by-c array of correlations \n",
    "    # between each x and each y indicator\n",
    "    yvals = np.unique(y)\n",
    "    tmp = np.zeros((x.shape[0],x.shape[1],len(yvals)))\n",
    "    for i in range(len(yvals)):\n",
    "        tmp[:,:,i] = corr_mat_vec(x,(y==yvals[i]))\n",
    "    return tmp\n",
    "\n",
    "def str_mean_se(vec):\n",
    "    return str(np.round(vec.mean(),4)) + ' (' + str(np.round(np.sqrt(vec.var()/len(vec)),4)) + ')'"
   ]
  },
  {
   "cell_type": "code",
   "execution_count": 9,
   "metadata": {},
   "outputs": [
    {
     "name": "stdout",
     "output_type": "stream",
     "text": [
      "Response Y1 = member type: p-value = 0.001 (0.0) for CPT, 0.001 (0.0) for CRT\n"
     ]
    }
   ],
   "source": [
    "# Response 1: member (1) or nonmember i.e. 'casual' (0)\n",
    "Y1 = np.array(df1['Member type'] == 'Member')\n",
    "T = np.abs(corr_mat_vec((X - Duration_mean).reshape((1,1,-1)),Y1))\n",
    "T_CRT = np.abs(corr_mat_vec((X_CRT - Duration_mean),Y1))\n",
    "T_CPT = np.abs(corr_mat_vec((X_CPT - Duration_mean),Y1))\n",
    "p_CRT = (1 + (T_CRT>=T).sum(1))/(1+M)\n",
    "p_CPT = (1 + (T_CPT>=T).sum(1))/(1+M)\n",
    "\n",
    "print('Response Y1 = member type: p-value = ' +\\\n",
    "      str_mean_se(p_CPT) + ' for CPT, ' + str_mean_se(p_CRT) + ' for CRT')"
   ]
  },
  {
   "cell_type": "code",
   "execution_count": 10,
   "metadata": {},
   "outputs": [
    {
     "name": "stdout",
     "output_type": "stream",
     "text": [
      "Response Y2 = date: p-value = 0.1146 (0.0032) for CPT, 0.1293 (0.0032) for CRT\n"
     ]
    }
   ],
   "source": [
    "# Response 2: date\n",
    "Y2 = np.array(df1['Day'])\n",
    "T = np.abs(corr_mat_vec((X - Duration_mean).reshape((1,1,-1)),Y2))\n",
    "T_CRT = np.abs(corr_mat_vec((X_CRT - Duration_mean),Y2))\n",
    "T_CPT = np.abs(corr_mat_vec((X_CPT - Duration_mean),Y2))\n",
    "p_CRT = (1 + (T_CRT>=T).sum(1))/(1+M)\n",
    "p_CPT = (1 + (T_CPT>=T).sum(1))/(1+M)\n",
    "\n",
    "print('Response Y2 = date: p-value = ' +\\\n",
    "      str_mean_se(p_CPT) + ' for CPT, ' + str_mean_se(p_CRT) + ' for CRT')"
   ]
  },
  {
   "cell_type": "code",
   "execution_count": 11,
   "metadata": {},
   "outputs": [
    {
     "name": "stdout",
     "output_type": "stream",
     "text": [
      "Response Y3 = day of week: p-value = 0.198 (0.0037) for CPT, 0.2063 (0.0032) for CRT\n"
     ]
    }
   ],
   "source": [
    "# Response 3: day of week\n",
    "Y3 = np.array(df1['Day of week'])\n",
    "T = np.abs(corr_mat_vec_cat((X-Duration_mean).reshape((1,1,-1)),Y3)).max(2)\n",
    "T_CRT = np.abs(corr_mat_vec_cat((X_CRT - Duration_mean),Y3)).max(2)\n",
    "T_CPT = np.abs(corr_mat_vec_cat((X_CPT - Duration_mean),Y3)).max(2)\n",
    "p_CRT = (1 + (T_CRT>=T).sum(1))/(1+M)\n",
    "p_CPT = (1 + (T_CPT>=T).sum(1))/(1+M)\n",
    "\n",
    "print('Response Y3 = day of week: p-value = ' +\\\n",
    "      str_mean_se(p_CPT) + ' for CPT, ' + str_mean_se(p_CRT) + ' for CRT')"
   ]
  }
 ],
 "metadata": {
  "kernelspec": {
   "display_name": "Python 3.10.4 ('shifts')",
   "language": "python",
   "name": "python3"
  },
  "language_info": {
   "codemirror_mode": {
    "name": "ipython",
    "version": 3
   },
   "file_extension": ".py",
   "mimetype": "text/x-python",
   "name": "python",
   "nbconvert_exporter": "python",
   "pygments_lexer": "ipython3",
   "version": "3.10.4"
  },
  "vscode": {
   "interpreter": {
    "hash": "86360e8f4631c933c1922ddc7266b97d37c770a3d8ae17a788c4c5d48b298fdb"
   }
  }
 },
 "nbformat": 4,
 "nbformat_minor": 2
}
